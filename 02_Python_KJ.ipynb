{
  "cells": [
    {
      "cell_type": "markdown",
      "metadata": {
        "id": "Mam702Ou7duv"
      },
      "source": [
        "## Exercises\n",
        "\n",
        "Answer the questions or complete the tasks outlined in bold below, use the specific method described if applicable."
      ]
    },
    {
      "cell_type": "markdown",
      "metadata": {
        "id": "ZIRBtfyp7duw"
      },
      "source": [
        "**What is 7 to the power of 4?**"
      ]
    },
    {
      "cell_type": "code",
      "execution_count": null,
      "metadata": {
        "colab": {
          "base_uri": "https://localhost:8080/"
        },
        "id": "Dri8XzJZ7dux",
        "outputId": "c62b76ef-d6e8-4e0b-f496-a0feda25950d"
      },
      "outputs": [
        {
          "output_type": "execute_result",
          "data": {
            "text/plain": [
              "2401"
            ]
          },
          "metadata": {},
          "execution_count": 2
        }
      ],
      "source": [
        "7**4"
      ]
    },
    {
      "cell_type": "markdown",
      "metadata": {
        "id": "HHhl5RRX7duy"
      },
      "source": [
        "**Split this string:**\n",
        "\n",
        "    s = \"Hi there Sam!\"\n",
        "    \n",
        "**into a list.**"
      ]
    },
    {
      "cell_type": "code",
      "execution_count": null,
      "metadata": {
        "collapsed": true,
        "id": "LBkYusLT7duy"
      },
      "outputs": [],
      "source": [
        "s = \"Hi there Sam!\""
      ]
    },
    {
      "cell_type": "code",
      "execution_count": null,
      "metadata": {
        "colab": {
          "base_uri": "https://localhost:8080/"
        },
        "id": "DcaRZC8l7duz",
        "outputId": "288d83fb-869e-4919-9772-2131f78475a7"
      },
      "outputs": [
        {
          "output_type": "stream",
          "name": "stdout",
          "text": [
            "['Hi', 'there', 'Sam!']\n"
          ]
        }
      ],
      "source": [
        "splited_s = list(s.split(\" \")) \n",
        "print(splited_s)"
      ]
    },
    {
      "cell_type": "markdown",
      "metadata": {
        "id": "FYUG2MN37duz"
      },
      "source": [
        "**Given the variables:**\n",
        "\n",
        "    planet = \"Earth\"\n",
        "    diameter = 12742\n",
        "\n",
        "**Use .format() to print the following string:**\n",
        "\n",
        "    The diameter of Earth is 12742 kilometers."
      ]
    },
    {
      "cell_type": "code",
      "execution_count": null,
      "metadata": {
        "collapsed": true,
        "id": "ENZMeBhm7duz"
      },
      "outputs": [],
      "source": [
        "planet = \"Earth\"\n",
        "diameter = 12742"
      ]
    },
    {
      "cell_type": "code",
      "execution_count": null,
      "metadata": {
        "colab": {
          "base_uri": "https://localhost:8080/"
        },
        "id": "RC8s08r47du1",
        "outputId": "49fd6dc5-c576-4db7-b730-01f22a4cee13"
      },
      "outputs": [
        {
          "output_type": "stream",
          "name": "stdout",
          "text": [
            "The diameter of Earth is 12742 kilometers\n"
          ]
        }
      ],
      "source": [
        "print(\"The diameter of {} is {} kilometers\".format(planet, diameter))"
      ]
    },
    {
      "cell_type": "markdown",
      "metadata": {
        "id": "oWLn1-MY7du2"
      },
      "source": [
        "**Given this nested list, use indexing to grab the word \"hello\"**"
      ]
    },
    {
      "cell_type": "code",
      "execution_count": null,
      "metadata": {
        "collapsed": true,
        "id": "_PVTJlNb7du2"
      },
      "outputs": [],
      "source": [
        "lst = [1,2,[3,4],[5,[100,200,['hello']],23,11],1,7]"
      ]
    },
    {
      "cell_type": "code",
      "execution_count": null,
      "metadata": {
        "colab": {
          "base_uri": "https://localhost:8080/"
        },
        "id": "OTtAq6KS7du2",
        "outputId": "2107282a-2c46-4833-d704-c11478f6aa57"
      },
      "outputs": [
        {
          "output_type": "stream",
          "name": "stdout",
          "text": [
            "['hello']\n"
          ]
        }
      ],
      "source": [
        "print(lst[3][1][2])"
      ]
    },
    {
      "cell_type": "markdown",
      "metadata": {
        "id": "_maf3bRi7du2"
      },
      "source": [
        "**Given this nested dictionary grab the word \"hello\". Be prepared, this will be annoying/tricky**"
      ]
    },
    {
      "cell_type": "code",
      "execution_count": null,
      "metadata": {
        "id": "M8m09WIl7du3"
      },
      "outputs": [],
      "source": [
        "d = {'k1':[1,2,3,{'tricky':['oh','man','inception',{'target':[1,2,3,'hello']}]}]}"
      ]
    },
    {
      "cell_type": "code",
      "execution_count": null,
      "metadata": {
        "id": "qyWR38eq7du3"
      },
      "outputs": [],
      "source": [
        "# TEGO NIE ROBIĆ"
      ]
    },
    {
      "cell_type": "markdown",
      "metadata": {
        "id": "3_IUW6_N7du3"
      },
      "source": [
        "**What is the main difference between a tuple and a list?**"
      ]
    },
    {
      "cell_type": "code",
      "execution_count": null,
      "metadata": {
        "collapsed": true,
        "id": "sIVCzJxh7du4"
      },
      "outputs": [],
      "source": [
        "# Tuple is immutable"
      ]
    },
    {
      "cell_type": "markdown",
      "metadata": {
        "id": "Gan5t5AI7du4"
      },
      "source": [
        "**Create a function that grabs the email website domain from a string in the form:**\n",
        "\n",
        "    user@domain.com\n",
        "    \n",
        "**So for example, passing \"user@domain.com\" would return: domain.com**"
      ]
    },
    {
      "cell_type": "code",
      "execution_count": null,
      "metadata": {
        "collapsed": true,
        "id": "ao0fUZn87du5"
      },
      "outputs": [],
      "source": [
        "email='user@domain.com'\n",
        "def domainGet(var_1):\n",
        "  dom=var_1.split('@')\n",
        "  print(dom[1]);"
      ]
    },
    {
      "cell_type": "code",
      "execution_count": null,
      "metadata": {
        "colab": {
          "base_uri": "https://localhost:8080/"
        },
        "id": "DwT0Y-j_7du5",
        "outputId": "54eb20d3-06e1-435a-cb74-43efdcfe0c48"
      },
      "outputs": [
        {
          "output_type": "stream",
          "name": "stdout",
          "text": [
            "domain.com\n"
          ]
        }
      ],
      "source": [
        "domainGet(email)"
      ]
    },
    {
      "cell_type": "markdown",
      "metadata": {
        "id": "TNTU3Jr77du6"
      },
      "source": [
        "**Create a basic function that returns True if the word 'dog' is contained in the input string. Don't worry about edge cases like a punctuation being attached to the word dog, but do account for capitalization.**"
      ]
    },
    {
      "cell_type": "code",
      "execution_count": null,
      "metadata": {
        "collapsed": true,
        "id": "A-AXBbmU7du6"
      },
      "outputs": [],
      "source": [
        "def findDog(in_text = '', check_text = ''):\n",
        "   return check_text in in_text.split(' ')\n",
        "\n",
        "def findDog1(in_text = '', check_text = ''):\n",
        "   return check_text in in_text\n",
        "\n",
        "def findDog2(in_text = '', check_text = ''):\n",
        "   result = False\n",
        "   if check_text in in_text:\n",
        "     result = True\n",
        "   return result"
      ]
    },
    {
      "cell_type": "code",
      "execution_count": null,
      "metadata": {
        "colab": {
          "base_uri": "https://localhost:8080/"
        },
        "id": "N9ZWlx1N7du6",
        "outputId": "fa64de30-39d2-401a-ee17-67404a8d3d7f"
      },
      "outputs": [
        {
          "output_type": "execute_result",
          "data": {
            "text/plain": [
              "False"
            ]
          },
          "metadata": {},
          "execution_count": 38
        }
      ],
      "source": [
        "in_text = \"is there a dog here?\"\n",
        "check_text = \"dog\"\n",
        "findDog(in_text, check_text)"
      ]
    },
    {
      "cell_type": "markdown",
      "metadata": {
        "id": "gdObKOh37du6"
      },
      "source": [
        "**Create a function that counts the number of times the word \"dog\" occurs in a string. Again ignore edge cases.**"
      ]
    },
    {
      "cell_type": "code",
      "execution_count": null,
      "metadata": {
        "id": "N0Uoz5c47du6"
      },
      "outputs": [],
      "source": [
        "def countDog(in_text = '', check_text = ''):\n",
        "   result = 0\n",
        "   if check_text in in_text:\n",
        "     result = in_text.count(check_text)\n",
        "   return result"
      ]
    },
    {
      "cell_type": "code",
      "execution_count": null,
      "metadata": {
        "colab": {
          "base_uri": "https://localhost:8080/"
        },
        "id": "vzwO6qt57du7",
        "outputId": "2ce419e4-9efa-4797-d04c-b4b2cf3c9f42"
      },
      "outputs": [
        {
          "output_type": "execute_result",
          "data": {
            "text/plain": [
              "2"
            ]
          },
          "metadata": {},
          "execution_count": 41
        }
      ],
      "source": [
        "in_text = \"This dog runs faster than the other dog dude!\"\n",
        "check_text = \"dog\"\n",
        "countDog(in_text, check_text)"
      ]
    },
    {
      "cell_type": "markdown",
      "metadata": {
        "id": "8uL-JmUO7du7"
      },
      "source": [
        "**Use lambda expressions and the filter() function to filter out words from a list that don't start with the letter 's'. For example:**\n",
        "\n",
        "    seq = ['soup','dog','salad','cat','great']\n",
        "\n",
        "**should be filtered down to:**\n",
        "\n",
        "    ['soup','salad']"
      ]
    },
    {
      "cell_type": "code",
      "execution_count": null,
      "metadata": {
        "collapsed": true,
        "id": "BJdKL1Uc7du7"
      },
      "outputs": [],
      "source": [
        "seq = ['soup','dog','salad','cat','great']"
      ]
    },
    {
      "cell_type": "code",
      "execution_count": null,
      "metadata": {
        "id": "nK-YdFW67du7",
        "outputId": "0b587a87-becc-4524-d355-ba89f7d7b824"
      },
      "outputs": [
        {
          "data": {
            "text/plain": [
              "['soup', 'salad']"
            ]
          },
          "execution_count": 35,
          "metadata": {},
          "output_type": "execute_result"
        }
      ],
      "source": [
        ""
      ]
    },
    {
      "cell_type": "markdown",
      "metadata": {
        "id": "2h_RxHOB7du8"
      },
      "source": [
        "### Final Problem\n",
        "**You are driving a little too fast, and a police officer stops you. Write a function\n",
        "  to return one of 3 possible results: \"No ticket\", \"Small ticket\", or \"Big Ticket\". \n",
        "  If your speed is 60 or less, the result is \"No Ticket\". If speed is between 61 \n",
        "  and 80 inclusive, the result is \"Small Ticket\". If speed is 81 or more, the result is \"Big    Ticket\". Unless it is your birthday (encoded as a boolean value in the parameters of the function) -- on your birthday, your speed can be 5 higher in all \n",
        "  cases. **"
      ]
    },
    {
      "cell_type": "code",
      "execution_count": null,
      "metadata": {
        "collapsed": true,
        "id": "LAa9aiJS7du9"
      },
      "outputs": [],
      "source": [
        "def caught_speeding(speed, is_birthday):\n",
        "    pass"
      ]
    },
    {
      "cell_type": "code",
      "execution_count": null,
      "metadata": {
        "id": "y88rpJLC7du9",
        "outputId": "450553e5-8258-48e9-f570-8835350ec0c6"
      },
      "outputs": [
        {
          "data": {
            "text/plain": [
              "'Small Ticket'"
            ]
          },
          "execution_count": 42,
          "metadata": {},
          "output_type": "execute_result"
        }
      ],
      "source": [
        "caught_speeding(81,True)"
      ]
    },
    {
      "cell_type": "code",
      "execution_count": null,
      "metadata": {
        "id": "qz1hlgMq7du9",
        "outputId": "b823607a-7653-491e-c562-1ad45c60a20b"
      },
      "outputs": [
        {
          "data": {
            "text/plain": [
              "'Big Ticket'"
            ]
          },
          "execution_count": 43,
          "metadata": {},
          "output_type": "execute_result"
        }
      ],
      "source": [
        "caught_speeding(81,False)"
      ]
    },
    {
      "cell_type": "markdown",
      "metadata": {
        "id": "RG9rowGe7du-"
      },
      "source": [
        "# Great job!"
      ]
    }
  ],
  "metadata": {
    "kernelspec": {
      "display_name": "Python 3",
      "language": "python",
      "name": "python3"
    },
    "language_info": {
      "codemirror_mode": {
        "name": "ipython",
        "version": 3
      },
      "file_extension": ".py",
      "mimetype": "text/x-python",
      "name": "python",
      "nbconvert_exporter": "python",
      "pygments_lexer": "ipython3",
      "version": "3.8.5"
    },
    "colab": {
      "name": "02-Python_KJ.ipynb",
      "provenance": [],
      "collapsed_sections": [],
      "toc_visible": true
    }
  },
  "nbformat": 4,
  "nbformat_minor": 0
}