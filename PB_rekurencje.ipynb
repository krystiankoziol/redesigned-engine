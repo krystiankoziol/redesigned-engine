{
  "nbformat": 4,
  "nbformat_minor": 0,
  "metadata": {
    "colab": {
      "name": "PB_rekurencje.ipynb",
      "provenance": [],
      "collapsed_sections": []
    },
    "kernelspec": {
      "name": "python3",
      "display_name": "Python 3"
    },
    "language_info": {
      "name": "python"
    }
  },
  "cells": [
    {
      "cell_type": "code",
      "source": [
        "import numpy as np"
      ],
      "metadata": {
        "id": "MZsNSF-fPLyE"
      },
      "execution_count": 26,
      "outputs": []
    },
    {
      "cell_type": "code",
      "execution_count": 31,
      "metadata": {
        "id": "ERCvgoGlzdWT"
      },
      "outputs": [],
      "source": [
        "def ciag_fib(n):\n",
        "\n",
        "  if n == 0:\n",
        "      return 0\n",
        "  elif n == 1:\n",
        "       return 1\n",
        "  else:\n",
        "      return ciag_fib(n-1) + ciag_fib(n-2)\n"
      ]
    },
    {
      "cell_type": "code",
      "source": [
        "print(ciag_fib(3.0))"
      ],
      "metadata": {
        "colab": {
          "base_uri": "https://localhost:8080/"
        },
        "id": "Y4v9beVR1wt2",
        "outputId": "1c6269db-e2e4-4fac-fa68-7acc77f53984"
      },
      "execution_count": 36,
      "outputs": [
        {
          "output_type": "stream",
          "name": "stdout",
          "text": [
            "2\n"
          ]
        }
      ]
    },
    {
      "cell_type": "code",
      "source": [
        "def ciag_a(n):\n",
        "  return (175**n * n**2)/((4*175-1)-n**2)\n"
      ],
      "metadata": {
        "id": "t7r-DchG5l8f"
      },
      "execution_count": 23,
      "outputs": []
    },
    {
      "cell_type": "code",
      "source": [
        "print(ciag_a(5))"
      ],
      "metadata": {
        "colab": {
          "base_uri": "https://localhost:8080/"
        },
        "id": "gIzZb5426gCR",
        "outputId": "6db4b484-241a-42bb-e9c7-0e3c6f75993f"
      },
      "execution_count": 24,
      "outputs": [
        {
          "output_type": "stream",
          "name": "stdout",
          "text": [
            "6087939887.796736\n"
          ]
        }
      ]
    },
    {
      "cell_type": "code",
      "source": [
        "def suma_ciag(n1,n2):\n",
        "  return ciag_fib(n1) + ciag_a(n2)"
      ],
      "metadata": {
        "id": "Qeu_066bOh08"
      },
      "execution_count": 40,
      "outputs": []
    },
    {
      "cell_type": "code",
      "source": [
        "suma_ciag(3,5)"
      ],
      "metadata": {
        "colab": {
          "base_uri": "https://localhost:8080/"
        },
        "id": "XlFuzUitPSiX",
        "outputId": "9ef256a2-b1af-4e33-93f8-43f5e1ec9cd7"
      },
      "execution_count": 42,
      "outputs": [
        {
          "output_type": "execute_result",
          "data": {
            "text/plain": [
              "6087939889.796736"
            ]
          },
          "metadata": {},
          "execution_count": 42
        }
      ]
    }
  ]
}